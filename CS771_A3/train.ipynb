{
 "cells": [
  {
   "cell_type": "code",
   "execution_count": 2,
   "metadata": {},
   "outputs": [],
   "source": [
    "import numpy as np\n",
    "import pandas as pd\n",
    "import pickle as pkl\n",
    "\n",
    "from sklearn.model_selection import train_test_split\n",
    "from sklearn.metrics import mean_absolute_error\n",
    "from sklearn.linear_model import LinearRegression, Lasso, Ridge, ElasticNet\n",
    "from sklearn.svm import SVR\n",
    "from sklearn.neighbors import KNeighborsRegressor\n",
    "from sklearn.tree import DecisionTreeRegressor\n",
    "from sklearn.ensemble import RandomForestRegressor\n",
    "from sklearn.neural_network import MLPRegressor"
   ]
  },
  {
   "attachments": {},
   "cell_type": "markdown",
   "metadata": {},
   "source": [
    "### Load Data"
   ]
  },
  {
   "cell_type": "code",
   "execution_count": 3,
   "metadata": {},
   "outputs": [
    {
     "name": "stdout",
     "output_type": "stream",
     "text": [
      "(20000, 9)\n"
     ]
    },
    {
     "data": {
      "text/html": [
       "<div>\n",
       "<style scoped>\n",
       "    .dataframe tbody tr th:only-of-type {\n",
       "        vertical-align: middle;\n",
       "    }\n",
       "\n",
       "    .dataframe tbody tr th {\n",
       "        vertical-align: top;\n",
       "    }\n",
       "\n",
       "    .dataframe thead th {\n",
       "        text-align: right;\n",
       "    }\n",
       "</style>\n",
       "<table border=\"1\" class=\"dataframe\">\n",
       "  <thead>\n",
       "    <tr style=\"text-align: right;\">\n",
       "      <th></th>\n",
       "      <th>Time</th>\n",
       "      <th>OZONE</th>\n",
       "      <th>NO2</th>\n",
       "      <th>temp</th>\n",
       "      <th>humidity</th>\n",
       "      <th>no2op1</th>\n",
       "      <th>no2op2</th>\n",
       "      <th>o3op1</th>\n",
       "      <th>o3op2</th>\n",
       "    </tr>\n",
       "  </thead>\n",
       "  <tbody>\n",
       "    <tr>\n",
       "      <th>0</th>\n",
       "      <td>2019-03-27 13:01:00</td>\n",
       "      <td>77.59</td>\n",
       "      <td>6.881</td>\n",
       "      <td>36.2</td>\n",
       "      <td>38.9</td>\n",
       "      <td>199.0</td>\n",
       "      <td>200.0</td>\n",
       "      <td>240.0</td>\n",
       "      <td>197.0</td>\n",
       "    </tr>\n",
       "    <tr>\n",
       "      <th>1</th>\n",
       "      <td>2019-03-27 13:03:00</td>\n",
       "      <td>78.71</td>\n",
       "      <td>11.057</td>\n",
       "      <td>36.3</td>\n",
       "      <td>37.7</td>\n",
       "      <td>196.0</td>\n",
       "      <td>200.0</td>\n",
       "      <td>237.0</td>\n",
       "      <td>196.0</td>\n",
       "    </tr>\n",
       "    <tr>\n",
       "      <th>2</th>\n",
       "      <td>2019-03-27 13:04:00</td>\n",
       "      <td>78.85</td>\n",
       "      <td>8.596</td>\n",
       "      <td>36.7</td>\n",
       "      <td>38.0</td>\n",
       "      <td>195.0</td>\n",
       "      <td>199.0</td>\n",
       "      <td>235.0</td>\n",
       "      <td>196.0</td>\n",
       "    </tr>\n",
       "    <tr>\n",
       "      <th>3</th>\n",
       "      <td>2019-03-27 13:07:00</td>\n",
       "      <td>79.27</td>\n",
       "      <td>7.248</td>\n",
       "      <td>37.0</td>\n",
       "      <td>37.5</td>\n",
       "      <td>193.0</td>\n",
       "      <td>198.0</td>\n",
       "      <td>233.0</td>\n",
       "      <td>195.0</td>\n",
       "    </tr>\n",
       "    <tr>\n",
       "      <th>4</th>\n",
       "      <td>2019-03-27 13:08:00</td>\n",
       "      <td>80.01</td>\n",
       "      <td>8.638</td>\n",
       "      <td>36.8</td>\n",
       "      <td>36.8</td>\n",
       "      <td>191.0</td>\n",
       "      <td>198.0</td>\n",
       "      <td>231.0</td>\n",
       "      <td>195.0</td>\n",
       "    </tr>\n",
       "  </tbody>\n",
       "</table>\n",
       "</div>"
      ],
      "text/plain": [
       "                  Time  OZONE     NO2  temp  humidity  no2op1  no2op2  o3op1  \\\n",
       "0  2019-03-27 13:01:00  77.59   6.881  36.2      38.9   199.0   200.0  240.0   \n",
       "1  2019-03-27 13:03:00  78.71  11.057  36.3      37.7   196.0   200.0  237.0   \n",
       "2  2019-03-27 13:04:00  78.85   8.596  36.7      38.0   195.0   199.0  235.0   \n",
       "3  2019-03-27 13:07:00  79.27   7.248  37.0      37.5   193.0   198.0  233.0   \n",
       "4  2019-03-27 13:08:00  80.01   8.638  36.8      36.8   191.0   198.0  231.0   \n",
       "\n",
       "   o3op2  \n",
       "0  197.0  \n",
       "1  196.0  \n",
       "2  196.0  \n",
       "3  195.0  \n",
       "4  195.0  "
      ]
     },
     "execution_count": 3,
     "metadata": {},
     "output_type": "execute_result"
    }
   ],
   "source": [
    "df = pd.read_csv('train.csv')\n",
    "print(df.shape)\n",
    "df.head()"
   ]
  },
  {
   "cell_type": "code",
   "execution_count": 4,
   "metadata": {},
   "outputs": [],
   "source": [
    "def update_time(X):\n",
    "    for i in range(len(X)):\n",
    "        X[i][6] = int(X[i][6].split()[1][:2]) # hour\n",
    "    return X"
   ]
  },
  {
   "cell_type": "code",
   "execution_count": 5,
   "metadata": {},
   "outputs": [],
   "source": [
    "X = np.array(df[['no2op1','no2op2','o3op1','o3op2','temp','humidity','Time']]).reshape(-1, 7)\n",
    "Y = np.array(df[['OZONE','NO2']]).reshape(-1, 2)\n",
    "\n",
    "X = update_time(X)\n",
    "\n",
    "# Splitting the data into training and testing data\n",
    "X_train, X_test, Y_train, Y_test = train_test_split(X, Y, test_size = 0.25, random_state = 42)"
   ]
  },
  {
   "attachments": {},
   "cell_type": "markdown",
   "metadata": {},
   "source": [
    "### Part 1: Linear Models on only 4 features"
   ]
  },
  {
   "cell_type": "code",
   "execution_count": 19,
   "metadata": {},
   "outputs": [],
   "source": [
    "# Select appropriate model\n",
    "# lin_model = LinearRegression()                      # (L2 loss with no regularization)\n",
    "# lin_model = Ridge(alpha=0.5)                      # (L2 loss with L2 regularization)\n",
    "# lin_model = Lasso(alpha=0.1)                      # (L2 loss with L1 regularization)\n",
    "lin_model = ElasticNet(alpha=0.1, l1_ratio=0.5)   # (L2 loss with L1 and L2 regularization)\n",
    "# lin_model = SVR(kernel='linear', C=100, gamma='auto')"
   ]
  },
  {
   "cell_type": "code",
   "execution_count": 20,
   "metadata": {},
   "outputs": [
    {
     "name": "stdout",
     "output_type": "stream",
     "text": [
      "0.29597038267902764\n",
      "6.5401000938427885\n"
     ]
    }
   ],
   "source": [
    "# o3\n",
    "lin_model.fit(X[:,:4], Y[:,1])\n",
    "print(lin_model.score(X[:,:4], Y[:,1]))\n",
    "y_pred = lin_model.predict(X[:,:4])\n",
    "print(mean_absolute_error(Y[:,1], y_pred))"
   ]
  },
  {
   "cell_type": "code",
   "execution_count": 21,
   "metadata": {},
   "outputs": [
    {
     "name": "stdout",
     "output_type": "stream",
     "text": [
      "0.29205535251059855\n",
      "6.617778763429134\n"
     ]
    }
   ],
   "source": [
    "# no2\n",
    "lin_model.fit(X_train[:,:4], Y_train[:,1])\n",
    "print(lin_model.score(X_train[:,:4], Y_train[:,1]))\n",
    "y_pred = lin_model.predict(X_test[:,:4])\n",
    "print(mean_absolute_error(Y_test[:,1], y_pred))"
   ]
  },
  {
   "cell_type": "code",
   "execution_count": null,
   "metadata": {},
   "outputs": [],
   "source": []
  },
  {
   "attachments": {},
   "cell_type": "markdown",
   "metadata": {},
   "source": [
    "### Part 2: Linear/Non-Linear Models on all features"
   ]
  },
  {
   "cell_type": "code",
   "execution_count": 6,
   "metadata": {},
   "outputs": [],
   "source": [
    "# Linear Models\n",
    "# model = LinearRegression()                      # (L2 loss with no regularization)\n",
    "# model = Ridge(alpha=0.5)                      # (L2 loss with L2 regularization)\n",
    "# model = Lasso(alpha=0.1)                      # (L2 loss with L1 regularization)\n",
    "# model = ElasticNet(alpha=0.1, l1_ratio=0.5)   # (L2 loss with L1 and L2 regularization)\n",
    "\n",
    "# Non-Linear Models\n",
    "# model = SVR(kernel='linear', C=100, gamma='auto')\n",
    "# model = SVR(kernel='rbf', C=100, gamma=0.1, epsilon=.1)\n",
    "# model = SVR(kernel='poly', C=100, gamma='auto', degree=3, epsilon=.1)\n",
    "# model = KNeighborsRegressor(n_neighbors=6)\n",
    "# model = DecisionTreeRegressor(max_depth=26, min_samples_leaf=3e-4, random_state=42)\n",
    "model = RandomForestRegressor(n_estimators=500, random_state=42)\n",
    "# model = MLPRegressor(hidden_layer_sizes=(100, 100, 100, 100, 100), activation='relu', solver='adam', max_iter=200, random_state=42)"
   ]
  },
  {
   "cell_type": "code",
   "execution_count": 7,
   "metadata": {},
   "outputs": [
    {
     "name": "stdout",
     "output_type": "stream",
     "text": [
      "0.9880575256596679\n",
      "3.7896239879577123\n"
     ]
    }
   ],
   "source": [
    "# Without time feature\n",
    "\n",
    "model.fit(X_train[:,:6], Y_train[:,0])\n",
    "print(model.score(X_train[:,:6], Y_train[:,0]))\n",
    "y_pred = model.predict(X_test[:,:6])\n",
    "print(mean_absolute_error(Y_test[:,0], y_pred))"
   ]
  },
  {
   "cell_type": "code",
   "execution_count": 7,
   "metadata": {},
   "outputs": [
    {
     "name": "stdout",
     "output_type": "stream",
     "text": [
      "0.9899023654492773\n",
      "1.241584231922828\n"
     ]
    }
   ],
   "source": [
    "# With time feature\n",
    "\n",
    "model.fit(X, Y[:,0])\n",
    "print(model.score(X, Y[:,0]))\n",
    "y_pred = model.predict(X)\n",
    "print(mean_absolute_error(Y[:,0], y_pred))"
   ]
  },
  {
   "cell_type": "code",
   "execution_count": null,
   "metadata": {},
   "outputs": [],
   "source": []
  },
  {
   "cell_type": "code",
   "execution_count": 16,
   "metadata": {},
   "outputs": [
    {
     "name": "stdout",
     "output_type": "stream",
     "text": [
      "3.019486316666667\n",
      "2.0417268125000003\n"
     ]
    }
   ],
   "source": [
    "# Best predictor\n",
    "\n",
    "model_o3 = KNeighborsRegressor(n_neighbors=6)\n",
    "model_o3.fit(X, Y[:,0])\n",
    "y_pred = model_o3.predict(X)\n",
    "print(mean_absolute_error(Y[:,0], y_pred))\n",
    "\n",
    "model_no2 = KNeighborsRegressor(n_neighbors=4)\n",
    "model_no2.fit(X, Y[:,1])\n",
    "y_pred = model_no2.predict(X)\n",
    "print(mean_absolute_error(Y[:,1], y_pred))\n",
    "\n",
    "models = [model_o3, model_no2]\n",
    "\n",
    "# Save your model\n",
    "with open( \"model\", \"wb\" ) as file:\n",
    "    pkl.dump( models, file )"
   ]
  },
  {
   "cell_type": "code",
   "execution_count": 17,
   "metadata": {},
   "outputs": [
    {
     "name": "stdout",
     "output_type": "stream",
     "text": [
      "175 ms ± 3.74 ms per loop (mean ± std. dev. of 7 runs, 10 loops each)\n"
     ]
    }
   ],
   "source": [
    "%%timeit\n",
    "model_o3.predict(X)"
   ]
  },
  {
   "attachments": {},
   "cell_type": "markdown",
   "metadata": {},
   "source": [
    "<!-- Store Table for Results -->\n",
    "### Results\n",
    "\n"
   ]
  },
  {
   "attachments": {},
   "cell_type": "markdown",
   "metadata": {},
   "source": [
    "| S.No. | Model                                    | O3 (MAE) | NO2 (MAE) |\n",
    "|-------|------------------------------------------|----------|-----------|\n",
    "| 1     | LinearRegression (First 4 features only) | 5.5859   | 6.6177    |\n",
    "| 2     | Ridge (First 4 features only)            | 5.5859   | 6.6177    |\n",
    "| 3     | Lasso (First 4 features only)            | 5.5859   | 6.6177    |\n",
    "| 4     | LinearRegression (Without time feature)  | 5.2947   | 6.6177    |\n",
    "| 5     | LinearRegression (With all features)     | 5.2669   | 6.6177    |\n",
    "| 6     | KNeighbours (6)                          | 3.7352   | 6.6177    |\n",
    "| 7     | Decision Tree (26, 3e-4)                 | 4.1369   | 6.6177    |\n",
    "| 8     | Random Forest (500)                      | 3.4951   | 6.6177    |\n",
    "| 9     | Neural Networks                          | 4.7241   | 6.6177    |"
   ]
  }
 ],
 "metadata": {
  "kernelspec": {
   "display_name": "Python 3",
   "language": "python",
   "name": "python3"
  },
  "language_info": {
   "codemirror_mode": {
    "name": "ipython",
    "version": 3
   },
   "file_extension": ".py",
   "mimetype": "text/x-python",
   "name": "python",
   "nbconvert_exporter": "python",
   "pygments_lexer": "ipython3",
   "version": "3.10.9"
  },
  "orig_nbformat": 4
 },
 "nbformat": 4,
 "nbformat_minor": 2
}
